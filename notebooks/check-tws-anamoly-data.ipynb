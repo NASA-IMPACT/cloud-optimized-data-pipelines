{
 "cells": [
  {
   "cell_type": "code",
   "execution_count": 1,
   "id": "fdd58351",
   "metadata": {},
   "outputs": [
    {
     "name": "stderr",
     "output_type": "stream",
     "text": [
      "/Users/aimeebarciauskas/miniconda3/lib/python3.9/site-packages/scipy/__init__.py:146: UserWarning: A NumPy version >=1.16.5 and <1.23.0 is required for this version of SciPy (detected version 1.23.1\n",
      "  warnings.warn(f\"A NumPy version >={np_minversion} and <{np_maxversion}\"\n"
     ]
    }
   ],
   "source": [
    "from cognito_client import CognitoClient\n",
    "import boto3\n",
    "from datetime import date\n",
    "import rioxarray\n",
    "import os\n",
    "import rasterio as rio\n",
    "from rasterio.session import AWSSession"
   ]
  },
  {
   "cell_type": "code",
   "execution_count": 3,
   "id": "6e76915e",
   "metadata": {},
   "outputs": [
    {
     "name": "stdout",
     "output_type": "stream",
     "text": [
      "Username: aimee\n"
     ]
    }
   ],
   "source": [
    "client = CognitoClient(\n",
    "    client_id=\"xxx\",\n",
    "    user_pool_id=\"xxx\",\n",
    "    identity_pool_id=\"xxx\",\n",
    ")"
   ]
  },
  {
   "cell_type": "code",
   "execution_count": 4,
   "id": "4adec990",
   "metadata": {},
   "outputs": [
    {
     "name": "stdout",
     "output_type": "stream",
     "text": [
      "········\n"
     ]
    }
   ],
   "source": [
    "_ = client.login()"
   ]
  },
  {
   "cell_type": "code",
   "execution_count": 5,
   "id": "1b49bb7b",
   "metadata": {},
   "outputs": [],
   "source": [
    "# Fetch AWS Credentials\n",
    "creds = client.get_aws_credentials()"
   ]
  },
  {
   "cell_type": "code",
   "execution_count": 6,
   "id": "2ee81e51",
   "metadata": {},
   "outputs": [],
   "source": [
    "# Use the credentials returned to upload to the staging bucket\n",
    "access_key_id = creds[\"AccessKeyId\"]\n",
    "secret_access_key = creds[\"SecretKey\"]\n",
    "session_token = creds[\"SessionToken\"]\n",
    "\n",
    "s3 = boto3.client(\n",
    "    \"s3\",\n",
    "    aws_access_key_id=access_key_id,\n",
    "    aws_secret_access_key=secret_access_key,\n",
    "    aws_session_token=session_token,\n",
    ")\n",
    "\n",
    "session = boto3.Session(aws_access_key_id=access_key_id, \n",
    "                        aws_secret_access_key=secret_access_key,\n",
    "                        aws_session_token=session_token)\n",
    "\n",
    "if __name__ == \"__main__\":\n",
    "    rio_env = rio.Env(AWSSession(session),\n",
    "                      GDAL_DISABLE_READDIR_ON_OPEN='EMPTY_DIR',\n",
    "                      GDAL_HTTP_COOKIEFILE=os.path.expanduser('~/cookies.txt'),\n",
    "                      GDAL_HTTP_COOKIEJAR=os.path.expanduser('~/cookies.txt'))\n",
    "    rio_env.__enter__()\n",
    "\n",
    "bucket = \"veda-data-store-staging\""
   ]
  },
  {
   "cell_type": "code",
   "execution_count": 7,
   "id": "ba58fb2f",
   "metadata": {},
   "outputs": [],
   "source": [
    "prefix = 'EIS/COG/LIS_TWS_ANOMALY/'"
   ]
  },
  {
   "cell_type": "code",
   "execution_count": 8,
   "id": "289f8b3c",
   "metadata": {},
   "outputs": [
    {
     "name": "stdout",
     "output_type": "stream",
     "text": [
      "The number of days between the given range of dates is :\n",
      "7031\n"
     ]
    }
   ],
   "source": [
    "d0 = date(2002, 9, 1)\n",
    "d1 = date(2021, 12, 1)\n",
    "delta = d1 - d0\n",
    "print('The number of days between the given range of dates is :')\n",
    "print(delta.days)"
   ]
  },
  {
   "cell_type": "code",
   "execution_count": 9,
   "id": "0dd6d930",
   "metadata": {},
   "outputs": [
    {
     "name": "stdout",
     "output_type": "stream",
     "text": [
      "✅ Able to list objects in bucket\n"
     ]
    }
   ],
   "source": [
    "try:\n",
    "    # List objects in bucket\n",
    "    objects = s3.list_objects_v2(\n",
    "        Bucket=bucket,\n",
    "        Prefix='EIS/COG/LIS_TWS_ANOMALY/'\n",
    "    )\n",
    "    print(f\"✅ Able to list objects in bucket\")\n",
    "except Exception as err:\n",
    "    print(f\"❌ Failed to list objects in bucket, {err}\")"
   ]
  },
  {
   "cell_type": "code",
   "execution_count": 10,
   "id": "1696b5d9",
   "metadata": {},
   "outputs": [],
   "source": [
    "paginator = s3.get_paginator('list_objects_v2')\n",
    "pages = paginator.paginate(Bucket=bucket, Prefix=prefix)\n",
    "all_objects = []\n",
    "for page in pages:\n",
    "    for obj in page['Contents']:\n",
    "        all_objects.append(obj)"
   ]
  },
  {
   "cell_type": "code",
   "execution_count": 11,
   "id": "2b42f0a1",
   "metadata": {},
   "outputs": [
    {
     "name": "stdout",
     "output_type": "stream",
     "text": [
      "There are 7033 in the bucket under prefix EIS/COG/LIS_TWS_ANOMALY/\n"
     ]
    }
   ],
   "source": [
    "print(f'There are {len(all_objects)} in the bucket under prefix {prefix}')"
   ]
  },
  {
   "cell_type": "code",
   "execution_count": null,
   "id": "630b376d",
   "metadata": {},
   "outputs": [
    {
     "name": "stdout",
     "output_type": "stream",
     "text": [
      "checked 0 items\n",
      "checked 10 items\n",
      "checked 20 items\n",
      "checked 30 items\n",
      "checked 40 items\n",
      "checked 50 items\n",
      "checked 60 items\n",
      "checked 70 items\n",
      "checked 80 items\n",
      "checked 90 items\n",
      "checked 100 items\n",
      "checked 110 items\n",
      "checked 120 items\n",
      "checked 130 items\n",
      "checked 140 items\n",
      "checked 150 items\n",
      "checked 160 items\n",
      "checked 170 items\n",
      "checked 180 items\n",
      "checked 190 items\n",
      "checked 200 items\n",
      "checked 210 items\n",
      "checked 220 items\n",
      "checked 230 items\n",
      "checked 240 items\n",
      "checked 250 items\n",
      "checked 260 items\n",
      "checked 270 items\n",
      "checked 280 items\n",
      "checked 290 items\n",
      "checked 300 items\n",
      "checked 310 items\n",
      "checked 320 items\n",
      "checked 330 items\n",
      "checked 340 items\n",
      "checked 350 items\n",
      "checked 360 items\n",
      "checked 370 items\n",
      "checked 380 items\n",
      "checked 390 items\n",
      "checked 400 items\n",
      "checked 410 items\n",
      "checked 420 items\n",
      "checked 430 items\n",
      "checked 440 items\n",
      "checked 450 items\n",
      "checked 460 items\n",
      "checked 470 items\n",
      "checked 480 items\n",
      "checked 490 items\n",
      "checked 500 items\n",
      "checked 510 items\n",
      "checked 520 items\n",
      "checked 530 items\n",
      "checked 540 items\n",
      "checked 550 items\n",
      "checked 560 items\n",
      "checked 570 items\n",
      "checked 580 items\n",
      "checked 590 items\n",
      "checked 600 items\n",
      "checked 610 items\n",
      "checked 620 items\n",
      "checked 630 items\n",
      "checked 640 items\n",
      "checked 650 items\n",
      "checked 660 items\n",
      "checked 670 items\n",
      "checked 680 items\n",
      "checked 690 items\n",
      "checked 700 items\n",
      "checked 710 items\n",
      "checked 720 items\n",
      "checked 730 items\n",
      "checked 740 items\n",
      "checked 750 items\n",
      "checked 760 items\n",
      "checked 770 items\n",
      "checked 780 items\n",
      "checked 790 items\n",
      "checked 800 items\n",
      "checked 810 items\n",
      "checked 820 items\n",
      "checked 830 items\n",
      "checked 840 items\n",
      "checked 850 items\n",
      "checked 860 items\n",
      "checked 870 items\n",
      "checked 880 items\n",
      "checked 890 items\n",
      "checked 900 items\n",
      "checked 910 items\n",
      "checked 920 items\n",
      "checked 930 items\n",
      "checked 940 items\n",
      "checked 950 items\n",
      "checked 960 items\n",
      "checked 970 items\n",
      "checked 980 items\n",
      "checked 990 items\n",
      "checked 1000 items\n",
      "checked 1010 items\n",
      "checked 1020 items\n",
      "checked 1030 items\n",
      "checked 1040 items\n",
      "checked 1050 items\n",
      "checked 1060 items\n",
      "checked 1070 items\n",
      "checked 1080 items\n",
      "checked 1090 items\n",
      "checked 1100 items\n",
      "checked 1110 items\n",
      "checked 1120 items\n",
      "checked 1130 items\n",
      "checked 1140 items\n",
      "checked 1150 items\n",
      "checked 1160 items\n",
      "checked 1170 items\n",
      "checked 1180 items\n",
      "checked 1190 items\n",
      "checked 1200 items\n",
      "checked 1210 items\n",
      "checked 1220 items\n",
      "checked 1230 items\n",
      "checked 1240 items\n",
      "checked 1250 items\n",
      "checked 1260 items\n",
      "checked 1270 items\n",
      "checked 1280 items\n",
      "checked 1290 items\n",
      "checked 1300 items\n",
      "checked 1310 items\n",
      "checked 1320 items\n",
      "checked 1330 items\n",
      "checked 1340 items\n",
      "checked 1350 items\n",
      "checked 1360 items\n",
      "checked 1370 items\n",
      "checked 1380 items\n",
      "checked 1390 items\n",
      "checked 1400 items\n",
      "checked 1410 items\n",
      "checked 1420 items\n",
      "checked 1430 items\n",
      "checked 1440 items\n",
      "checked 1450 items\n",
      "checked 1460 items\n",
      "checked 1470 items\n",
      "checked 1480 items\n",
      "checked 1490 items\n",
      "checked 1500 items\n",
      "checked 1510 items\n",
      "checked 1520 items\n",
      "checked 1530 items\n",
      "checked 1540 items\n",
      "checked 1550 items\n",
      "checked 1560 items\n",
      "checked 1570 items\n",
      "checked 1580 items\n",
      "checked 1590 items\n",
      "checked 1600 items\n",
      "checked 1610 items\n",
      "checked 1620 items\n",
      "checked 1630 items\n",
      "checked 1640 items\n",
      "checked 1650 items\n",
      "checked 1660 items\n",
      "checked 1670 items\n",
      "checked 1680 items\n"
     ]
    }
   ],
   "source": [
    "%%time\n",
    "for idx, obj in enumerate(all_objects[1170:]):\n",
    "    if idx % 10 == 0:\n",
    "        print(f\"checked {idx} items\")\n",
    "    try:\n",
    "        # Try top open the dataset with rioxarray, if it fails it's probably a mis-processed file\n",
    "        s3_link = f's3://{bucket}/{obj[\"Key\"]}'\n",
    "        da = rioxarray.open_rasterio(s3_link)\n",
    "        #da = da.squeeze('band', drop=True)\n",
    "        # check both min and max are not 0\n",
    "#         if all(v == 0 for v in [da.min() and da.max()]):\n",
    "#             print(f\"Min and max of {s3_link} are both 0\")\n",
    "    except Exception as err:\n",
    "        print(f\"Failed to open {s3_link}\")"
   ]
  }
 ],
 "metadata": {
  "kernelspec": {
   "display_name": "Python 3 (ipykernel)",
   "language": "python",
   "name": "python3"
  },
  "language_info": {
   "codemirror_mode": {
    "name": "ipython",
    "version": 3
   },
   "file_extension": ".py",
   "mimetype": "text/x-python",
   "name": "python",
   "nbconvert_exporter": "python",
   "pygments_lexer": "ipython3",
   "version": "3.9.7"
  }
 },
 "nbformat": 4,
 "nbformat_minor": 5
}
