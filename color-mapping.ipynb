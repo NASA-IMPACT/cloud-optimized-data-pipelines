{
 "cells": [
  {
   "cell_type": "code",
   "execution_count": 213,
   "id": "109085cf",
   "metadata": {},
   "outputs": [
    {
     "name": "stderr",
     "output_type": "stream",
     "text": [
      "/var/folders/jh/_03qbqf130l8hjh8rpc6f4_c0000gn/T/ipykernel_6505/3404529780.py:14: UserWarning: Matplotlib is currently using module://matplotlib_inline.backend_inline, which is a non-GUI backend, so cannot show the figure.\n",
      "  fig.show()\n"
     ]
    },
    {
     "data": {
      "image/png": "[encoded data removed]",
      "text/plain": [
       "<Figure size 432x72 with 1 Axes>"
      ]
     },
     "metadata": {
      "needs_background": "light"
     },
     "output_type": "display_data"
    }
   ],
   "source": [
    "import matplotlib.pyplot as plt\n",
    "import matplotlib as mpl\n",
    "\n",
    "fig, ax = plt.subplots(figsize=(6, 1))\n",
    "fig.subplots_adjust(bottom=0.5)\n",
    "\n",
    "GnBu = mpl.cm.GnBu\n",
    "logscale = mpl.colors.LogNorm(vmin=1, vmax=100)\n",
    "\n",
    "cb1 = mpl.colorbar.ColorbarBase(ax, cmap=GnBu,\n",
    "                                norm=logscale,\n",
    "                                orientation='horizontal')\n",
    "cb1.set_label('Units')\n",
    "fig.show()"
   ]
  },
  {
   "cell_type": "code",
   "execution_count": 407,
   "id": "b4e56efa",
   "metadata": {},
   "outputs": [
    {
     "name": "stdout",
     "output_type": "stream",
     "text": [
      "[0.         0.05263158 0.10526316 0.15789474 0.21052632 0.26315789\n",
      " 0.31578947 0.36842105 0.42105263 0.47368421 0.52631579 0.57894737\n",
      " 0.63157895 0.68421053 0.73684211 0.78947368 0.84210526 0.89473684\n",
      " 0.94736842 1.        ]\n"
     ]
    }
   ],
   "source": [
    "from matplotlib.colors import to_hex, to_rgba\n",
    "import json\n",
    "import urllib\n",
    "\n",
    "\n",
    "numvalues = 20\n",
    "maxv = 1\n",
    "cmap = mpl.cm.GnBu\n",
    "interval_stops = np.linspace(0, 1, numvalues)\n",
    "colormap = cmap(interval_stops)\n",
    "hexcmap = np.multiply([to_rgba(c) for c in colormap], 255)\n",
    "\n",
    "colormap = []\n",
    "for idx in range(len(interval_stops)):\n",
    "    if idx < len(interval_stops)-1:\n",
    "        interval = (interval_stops[idx], interval_stops[idx+1])\n",
    "        rgba_color = tuple(map(int, hexcmap[idx]))\n",
    "        colormap.append((interval, rgba_color))\n",
    "\n",
    "colormap.append(((1.0, 1000), tuple(map(int, hexcmap[-1]))))\n",
    "\n",
    "cmap_params = urllib.parse.urlencode({\n",
    "    \"colormap\": json.dumps(colormap)\n",
    "})"
   ]
  },
  {
   "cell_type": "code",
   "execution_count": 411,
   "id": "67eb2e99",
   "metadata": {},
   "outputs": [
    {
     "name": "stdout",
     "output_type": "stream",
     "text": [
      "Option using expression log(b1):\n",
      "https://staging-raster.delta-backend.com/cog/preview?url=s3://climatedashboard-data/GPM_3IMERGHHE/3B-HHR-E.MS.MRG.3IMERG.20210101-S000000-E002959.0000.V06B.tif&nodata=0&expression=log(b1)&colormap_name=gnbu&rescale=0,1\n",
      "\n",
      "Option using custom colormap:\n",
      "https://staging-raster.delta-backend.com/cog/preview?url=s3://climatedashboard-data/GPM_3IMERGHHE/3B-HHR-E.MS.MRG.3IMERG.20210101-S000000-E002959.0000.V06B.tif&nodata=0&colormap=%5B%5B%5B0.0%2C+0.05263157894736842%5D%2C+%5B247%2C+252%2C+240%2C+255%5D%5D%2C+%5B%5B0.05263157894736842%2C+0.10526315789473684%5D%2C+%5B237%2C+248%2C+231%2C+255%5D%5D%2C+%5B%5B0.10526315789473684%2C+0.15789473684210525%5D%2C+%5B228%2C+244%2C+222%2C+255%5D%5D%2C+%5B%5B0.15789473684210525%2C+0.21052631578947367%5D%2C+%5B218%2C+240%2C+213%2C+255%5D%5D%2C+%5B%5B0.21052631578947367%2C+0.2631578947368421%5D%2C+%5B210%2C+237%2C+204%2C+255%5D%5D%2C+%5B%5B0.2631578947368421%2C+0.3157894736842105%5D%2C+%5B200%2C+233%2C+195%2C+255%5D%5D%2C+%5B%5B0.3157894736842105%2C+0.3684210526315789%5D%2C+%5B185%2C+227%2C+188%2C+255%5D%5D%2C+%5B%5B0.3684210526315789%2C+0.42105263157894735%5D%2C+%5B169%2C+221%2C+181%2C+255%5D%5D%2C+%5B%5B0.42105263157894735%2C+0.47368421052631576%5D%2C+%5B151%2C+214%2C+186%2C+255%5D%5D%2C+%5B%5B0.47368421052631576%2C+0.5263157894736842%5D%2C+%5B132%2C+207%2C+192%2C+255%5D%5D%2C+%5B%5B0.5263157894736842%2C+0.5789473684210527%5D%2C+%5B113%2C+198%2C+199%2C+255%5D%5D%2C+%5B%5B0.5789473684210527%2C+0.631578947368421%5D%2C+%5B94%2C+187%2C+205%2C+255%5D%5D%2C+%5B%5B0.631578947368421%2C+0.6842105263157894%5D%2C+%5B76%2C+177%2C+209%2C+255%5D%5D%2C+%5B%5B0.6842105263157894%2C+0.7368421052631579%5D%2C+%5B60%2C+159%2C+200%2C+255%5D%5D%2C+%5B%5B0.7368421052631579%2C+0.7894736842105263%5D%2C+%5B46%2C+143%2C+192%2C+255%5D%5D%2C+%5B%5B0.7894736842105263%2C+0.8421052631578947%5D%2C+%5B31%2C+127%2C+183%2C+255%5D%5D%2C+%5B%5B0.8421052631578947%2C+0.894736842105263%5D%2C+%5B16%2C+113%2C+176%2C+255%5D%5D%2C+%5B%5B0.894736842105263%2C+0.9473684210526315%5D%2C+%5B8%2C+96%2C+164%2C+255%5D%5D%2C+%5B%5B0.9473684210526315%2C+1.0%5D%2C+%5B8%2C+80%2C+146%2C+255%5D%5D%2C+%5B%5B1.0%2C+1000%5D%2C+%5B8%2C+64%2C+129%2C+255%5D%5D%5D\n"
     ]
    }
   ],
   "source": [
    "file = 's3://climatedashboard-data/GPM_3IMERGHHE/3B-HHR-E.MS.MRG.3IMERG.20210101-S000000-E002959.0000.V06B.tif'\n",
    "url = f'https://staging-raster.delta-backend.com/cog/preview?url={file}&nodata=0&'\n",
    "print('Option using expression log(b1):')\n",
    "print(f'{url}expression=log(b1)&colormap_name=gnbu&rescale=0,1')\n",
    "print('\\nOption using custom colormap:')\n",
    "print(f'{url}{cmap_params}')"
   ]
  }
 ],
 "metadata": {
  "kernelspec": {
   "display_name": "Python 3 (ipykernel)",
   "language": "python",
   "name": "python3"
  },
  "language_info": {
   "codemirror_mode": {
    "name": "ipython",
    "version": 3
   },
   "file_extension": ".py",
   "mimetype": "text/x-python",
   "name": "python",
   "nbconvert_exporter": "python",
   "pygments_lexer": "ipython3",
   "version": "3.9.7"
  }
 },
 "nbformat": 4,
 "nbformat_minor": 5
}
