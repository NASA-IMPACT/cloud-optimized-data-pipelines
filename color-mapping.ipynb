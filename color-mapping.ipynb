{
 "cells": [
  {
   "cell_type": "code",
   "execution_count": 213,
   "id": "109085cf",
   "metadata": {},
   "outputs": [
    {
     "name": "stderr",
     "output_type": "stream",
     "text": [
      "/var/folders/jh/_03qbqf130l8hjh8rpc6f4_c0000gn/T/ipykernel_6505/3404529780.py:14: UserWarning: Matplotlib is currently using module://matplotlib_inline.backend_inline, which is a non-GUI backend, so cannot show the figure.\n",
      "  fig.show()\n"
     ]
    },
    {
     "data": {
      "image/png": "[encoded data removed]",
      "text/plain": [
       "<Figure size 432x72 with 1 Axes>"
      ]
     },
     "metadata": {
      "needs_background": "light"
     },
     "output_type": "display_data"
    }
   ],
   "source": [
    "import matplotlib.pyplot as plt\n",
    "import matplotlib as mpl\n",
    "\n",
    "fig, ax = plt.subplots(figsize=(6, 1))\n",
    "fig.subplots_adjust(bottom=0.5)\n",
    "\n",
    "GnBu = mpl.cm.GnBu\n",
    "logscale = mpl.colors.LogNorm(vmin=1, vmax=100)\n",
    "\n",
    "cb1 = mpl.colorbar.ColorbarBase(ax, cmap=GnBu,\n",
    "                                norm=logscale,\n",
    "                                orientation='horizontal')\n",
    "cb1.set_label('Units')\n",
    "fig.show()"
   ]
  },
  {
   "cell_type": "code",
   "execution_count": 352,
   "id": "b4e56efa",
   "metadata": {},
   "outputs": [
    {
     "name": "stdout",
     "output_type": "stream",
     "text": [
      "{0.0: '#f7fcf0', 0.05263157894736842: '#eef8e7', 0.10526315789473684: '#e4f5df', 0.15789473684210525: '#dbf1d5', 0.21052631578947367: '#d3eecc', 0.2631578947368421: '#c8eac3', 0.3157894736842105: '#bae4bd', 0.3684210526315789: '#aadeb6', 0.42105263157894735: '#98d7ba', 0.47368421052631576: '#84cfc1', 0.5263157894736842: '#72c7c7', 0.5789473684210527: '#5ebcce', 0.631578947368421: '#4cb1d2', 0.6842105263157894: '#3da0c9', 0.7368421052631579: '#2f90c0', 0.7894736842105263: '#1f80b8', 0.8421052631578947: '#1171b1', 0.894736842105263: '#0861a4', 0.9473684210526315: '#085093', 1.0: '#084081'}\n"
     ]
    },
    {
     "data": {
      "text/plain": [
       "'colormap=%7B%220.0%22%3A+%22%23f7fcf0%22%2C+%220.05263157894736842%22%3A+%22%23eef8e7%22%2C+%220.10526315789473684%22%3A+%22%23e4f5df%22%2C+%220.15789473684210525%22%3A+%22%23dbf1d5%22%2C+%220.21052631578947367%22%3A+%22%23d3eecc%22%2C+%220.2631578947368421%22%3A+%22%23c8eac3%22%2C+%220.3157894736842105%22%3A+%22%23bae4bd%22%2C+%220.3684210526315789%22%3A+%22%23aadeb6%22%2C+%220.42105263157894735%22%3A+%22%2398d7ba%22%2C+%220.47368421052631576%22%3A+%22%2384cfc1%22%2C+%220.5263157894736842%22%3A+%22%2372c7c7%22%2C+%220.5789473684210527%22%3A+%22%235ebcce%22%2C+%220.631578947368421%22%3A+%22%234cb1d2%22%2C+%220.6842105263157894%22%3A+%22%233da0c9%22%2C+%220.7368421052631579%22%3A+%22%232f90c0%22%2C+%220.7894736842105263%22%3A+%22%231f80b8%22%2C+%220.8421052631578947%22%3A+%22%231171b1%22%2C+%220.894736842105263%22%3A+%22%230861a4%22%2C+%220.9473684210526315%22%3A+%22%23085093%22%2C+%221.0%22%3A+%22%23084081%22%7D'"
      ]
     },
     "execution_count": 352,
     "metadata": {},
     "output_type": "execute_result"
    }
   ],
   "source": [
    "from matplotlib.colors import to_hex\n",
    "import json\n",
    "import urllib\n",
    "\n",
    "\n",
    "numvalues = 20\n",
    "maxv = 1\n",
    "cmap = mpl.cm.GnBu\n",
    "hexcmap = [to_hex(c) for c in cmap(np.linspace(0, maxv, numvalues))]\n",
    "cmap_dict = {np.linspace(0, maxv, numvalues)[idx]: v for idx, v in enumerate(hexcmap)}\n",
    "\n",
    "print(cmap_dict)\n",
    "\n",
    "cmap_params = urllib.parse.urlencode({\n",
    "    \"colormap\": json.dumps(cmap_dict)\n",
    "})\n",
    "cmap_params"
   ]
  },
  {
   "cell_type": "code",
   "execution_count": 359,
   "id": "67eb2e99",
   "metadata": {},
   "outputs": [
    {
     "name": "stdout",
     "output_type": "stream",
     "text": [
      "Option using expression log(b1):\n",
      "https://staging-raster.delta-backend.com/cog/preview?url=s3://climatedashboard-data/GPM_3IMERGHHE/3B-HHR-E.MS.MRG.3IMERG.20210101-S000000-E002959.0000.V06B.tif&nodata=-9999.9&return_mask=true&expression=log(b1)&colormap_name=gnbu&rescale=0,1\n",
      "\n",
      "Option using custom colormap (throws an error \"invalid literal for int() with base 10\"):\n",
      "https://staging-raster.delta-backend.com/cog/preview?url=s3://climatedashboard-data/GPM_3IMERGHHE/3B-HHR-E.MS.MRG.3IMERG.20210101-S000000-E002959.0000.V06B.tif&nodata=-9999.9&return_mask=true&colormap=%7B%220.0%22%3A+%22%23f7fcf0%22%2C+%220.05263157894736842%22%3A+%22%23eef8e7%22%2C+%220.10526315789473684%22%3A+%22%23e4f5df%22%2C+%220.15789473684210525%22%3A+%22%23dbf1d5%22%2C+%220.21052631578947367%22%3A+%22%23d3eecc%22%2C+%220.2631578947368421%22%3A+%22%23c8eac3%22%2C+%220.3157894736842105%22%3A+%22%23bae4bd%22%2C+%220.3684210526315789%22%3A+%22%23aadeb6%22%2C+%220.42105263157894735%22%3A+%22%2398d7ba%22%2C+%220.47368421052631576%22%3A+%22%2384cfc1%22%2C+%220.5263157894736842%22%3A+%22%2372c7c7%22%2C+%220.5789473684210527%22%3A+%22%235ebcce%22%2C+%220.631578947368421%22%3A+%22%234cb1d2%22%2C+%220.6842105263157894%22%3A+%22%233da0c9%22%2C+%220.7368421052631579%22%3A+%22%232f90c0%22%2C+%220.7894736842105263%22%3A+%22%231f80b8%22%2C+%220.8421052631578947%22%3A+%22%231171b1%22%2C+%220.894736842105263%22%3A+%22%230861a4%22%2C+%220.9473684210526315%22%3A+%22%23085093%22%2C+%221.0%22%3A+%22%23084081%22%7D\n"
     ]
    }
   ],
   "source": [
    "file = 's3://climatedashboard-data/GPM_3IMERGHHE/3B-HHR-E.MS.MRG.3IMERG.20210101-S000000-E002959.0000.V06B.tif'\n",
    "url = f'https://staging-raster.delta-backend.com/cog/preview?url={file}&nodata=-9999.9&return_mask=true&'\n",
    "print('Option using expression log(b1):')\n",
    "print(f'{url}expression=log(b1)&colormap_name=gnbu&rescale=0,1')\n",
    "print('\\nOption using custom colormap (throws an error \"invalid literal for int() with base 10\"):')\n",
    "print(f'{url}{cmap_params}')"
   ]
  }
 ],
 "metadata": {
  "kernelspec": {
   "display_name": "Python 3 (ipykernel)",
   "language": "python",
   "name": "python3"
  },
  "language_info": {
   "codemirror_mode": {
    "name": "ipython",
    "version": 3
   },
   "file_extension": ".py",
   "mimetype": "text/x-python",
   "name": "python",
   "nbconvert_exporter": "python",
   "pygments_lexer": "ipython3",
   "version": "3.9.7"
  }
 },
 "nbformat": 4,
 "nbformat_minor": 5
}
