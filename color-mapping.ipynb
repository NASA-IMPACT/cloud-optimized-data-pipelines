{
 "cells": [
  {
   "cell_type": "code",
   "execution_count": 135,
   "id": "109085cf",
   "metadata": {},
   "outputs": [
    {
     "name": "stderr",
     "output_type": "stream",
     "text": [
      "/var/folders/jh/_03qbqf130l8hjh8rpc6f4_c0000gn/T/ipykernel_6505/3404529780.py:14: UserWarning: Matplotlib is currently using module://matplotlib_inline.backend_inline, which is a non-GUI backend, so cannot show the figure.\n",
      "  fig.show()\n"
     ]
    },
    {
     "data": {
      "image/png": "[encoded data removed]",
      "text/plain": [
       "<Figure size 432x72 with 1 Axes>"
      ]
     },
     "metadata": {
      "needs_background": "light"
     },
     "output_type": "display_data"
    }
   ],
   "source": [
    "import matplotlib.pyplot as plt\n",
    "import matplotlib as mpl\n",
    "\n",
    "fig, ax = plt.subplots(figsize=(6, 1))\n",
    "fig.subplots_adjust(bottom=0.5)\n",
    "\n",
    "GnBu = mpl.cm.GnBu\n",
    "logscale = mpl.colors.LogNorm(vmin=1, vmax=100)\n",
    "\n",
    "cb1 = mpl.colorbar.ColorbarBase(ax, cmap=GnBu,\n",
    "                                norm=logscale,\n",
    "                                orientation='horizontal')\n",
    "cb1.set_label('Units')\n",
    "fig.show()"
   ]
  },
  {
   "cell_type": "code",
   "execution_count": 134,
   "id": "b4e56efa",
   "metadata": {},
   "outputs": [],
   "source": [
    "from matplotlib.colors import to_hex\n",
    "import json\n",
    "import urllib\n",
    "\n",
    "\n",
    "numvalues = 100\n",
    "max_precip = 85\n",
    "cmap = mpl.cm.GnBu\n",
    "hexcmap = [to_hex(c) for c in cmap(np.logspace(0, max_precip, numvalues))]\n",
    "cmap_dict = {int(idx/numvalues * 255): v for idx, v in enumerate(hexcmap)}\n",
    "\n",
    "#cmap_dict\n",
    "cmap_params = urllib.parse.urlencode({\n",
    "    \"colormap\": json.dumps(cmap_dict)\n",
    "})\n"
   ]
  },
  {
   "cell_type": "code",
   "execution_count": 133,
   "id": "67eb2e99",
   "metadata": {},
   "outputs": [
    {
     "name": "stdout",
     "output_type": "stream",
     "text": [
      "https://staging-raster.delta-backend.com/cog/preview?url=s3://climatedashboard-data/GPM_3IMERGHHE/3B-HHR-E.MS.MRG.3IMERG.20210101-S000000-E002959.0000.V06B.tif&rescale=0,100&colormap=%7B%220%22%3A+%22%23084081%22%2C+%222%22%3A+%22%23084081%22%2C+%225%22%3A+%22%23084081%22%2C+%227%22%3A+%22%23084081%22%2C+%2210%22%3A+%22%23084081%22%2C+%2212%22%3A+%22%23084081%22%2C+%2215%22%3A+%22%23084081%22%2C+%2217%22%3A+%22%23084081%22%2C+%2220%22%3A+%22%23084081%22%2C+%2222%22%3A+%22%23084081%22%2C+%2225%22%3A+%22%23084081%22%2C+%2228%22%3A+%22%23084081%22%2C+%2230%22%3A+%22%23084081%22%2C+%2233%22%3A+%22%23084081%22%2C+%2235%22%3A+%22%23084081%22%2C+%2238%22%3A+%22%23084081%22%2C+%2240%22%3A+%22%23084081%22%2C+%2243%22%3A+%22%23084081%22%2C+%2245%22%3A+%22%23084081%22%2C+%2248%22%3A+%22%23084081%22%2C+%2251%22%3A+%22%23084081%22%2C+%2253%22%3A+%22%23084081%22%2C+%2256%22%3A+%22%23084081%22%2C+%2258%22%3A+%22%23084081%22%2C+%2261%22%3A+%22%23084081%22%2C+%2263%22%3A+%22%23084081%22%2C+%2266%22%3A+%22%23084081%22%2C+%2268%22%3A+%22%23084081%22%2C+%2271%22%3A+%22%23084081%22%2C+%2273%22%3A+%22%23084081%22%2C+%2276%22%3A+%22%23084081%22%2C+%2279%22%3A+%22%23084081%22%2C+%2281%22%3A+%22%23084081%22%2C+%2284%22%3A+%22%23084081%22%2C+%2286%22%3A+%22%23084081%22%2C+%2289%22%3A+%22%23084081%22%2C+%2291%22%3A+%22%23084081%22%2C+%2294%22%3A+%22%23084081%22%2C+%2296%22%3A+%22%23084081%22%2C+%2299%22%3A+%22%23084081%22%2C+%22102%22%3A+%22%23084081%22%2C+%22104%22%3A+%22%23084081%22%2C+%22107%22%3A+%22%23084081%22%2C+%22109%22%3A+%22%23084081%22%2C+%22112%22%3A+%22%23084081%22%2C+%22114%22%3A+%22%23084081%22%2C+%22117%22%3A+%22%23084081%22%2C+%22119%22%3A+%22%23084081%22%2C+%22122%22%3A+%22%23084081%22%2C+%22124%22%3A+%22%23084081%22%2C+%22127%22%3A+%22%23084081%22%2C+%22130%22%3A+%22%23084081%22%2C+%22132%22%3A+%22%23084081%22%2C+%22135%22%3A+%22%23084081%22%2C+%22137%22%3A+%22%23084081%22%2C+%22140%22%3A+%22%23084081%22%2C+%22142%22%3A+%22%23084081%22%2C+%22145%22%3A+%22%23084081%22%2C+%22147%22%3A+%22%23084081%22%2C+%22150%22%3A+%22%23084081%22%2C+%22153%22%3A+%22%23084081%22%2C+%22155%22%3A+%22%23084081%22%2C+%22158%22%3A+%22%23084081%22%2C+%22160%22%3A+%22%23084081%22%2C+%22163%22%3A+%22%23084081%22%2C+%22165%22%3A+%22%23084081%22%2C+%22168%22%3A+%22%23084081%22%2C+%22170%22%3A+%22%23084081%22%2C+%22173%22%3A+%22%23084081%22%2C+%22175%22%3A+%22%23084081%22%2C+%22178%22%3A+%22%23084081%22%2C+%22181%22%3A+%22%23084081%22%2C+%22183%22%3A+%22%23084081%22%2C+%22186%22%3A+%22%23084081%22%2C+%22188%22%3A+%22%23084081%22%2C+%22191%22%3A+%22%23084081%22%2C+%22193%22%3A+%22%23084081%22%2C+%22196%22%3A+%22%23084081%22%2C+%22198%22%3A+%22%23084081%22%2C+%22201%22%3A+%22%23084081%22%2C+%22204%22%3A+%22%23084081%22%2C+%22206%22%3A+%22%23084081%22%2C+%22209%22%3A+%22%23084081%22%2C+%22211%22%3A+%22%23084081%22%2C+%22214%22%3A+%22%23084081%22%2C+%22216%22%3A+%22%23084081%22%2C+%22219%22%3A+%22%23084081%22%2C+%22221%22%3A+%22%23084081%22%2C+%22224%22%3A+%22%23084081%22%2C+%22226%22%3A+%22%23084081%22%2C+%22229%22%3A+%22%23084081%22%2C+%22232%22%3A+%22%23084081%22%2C+%22234%22%3A+%22%23084081%22%2C+%22237%22%3A+%22%23084081%22%2C+%22239%22%3A+%22%23084081%22%2C+%22242%22%3A+%22%23084081%22%2C+%22244%22%3A+%22%23084081%22%2C+%22247%22%3A+%22%23084081%22%2C+%22249%22%3A+%22%23084081%22%2C+%22252%22%3A+%22%23084081%22%7D\n"
     ]
    }
   ],
   "source": [
    "url = 'https://staging-raster.delta-backend.com/cog/preview?url=s3://climatedashboard-data/GPM_3IMERGHHE/3B-HHR-E.MS.MRG.3IMERG.20210101-S000000-E002959.0000.V06B.tif&rescale=0,100&'\n",
    "print(f'{url}{cmap_params}')"
   ]
  }
 ],
 "metadata": {
  "kernelspec": {
   "display_name": "Python 3 (ipykernel)",
   "language": "python",
   "name": "python3"
  },
  "language_info": {
   "codemirror_mode": {
    "name": "ipython",
    "version": 3
   },
   "file_extension": ".py",
   "mimetype": "text/x-python",
   "name": "python",
   "nbconvert_exporter": "python",
   "pygments_lexer": "ipython3",
   "version": "3.9.7"
  }
 },
 "nbformat": 4,
 "nbformat_minor": 5
}
